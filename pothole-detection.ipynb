{
 "cells": [
  {
   "cell_type": "code",
   "execution_count": null,
   "metadata": {
    "_cell_guid": "b1076dfc-b9ad-4769-8c92-a6c4dae69d19",
    "_uuid": "8f2839f25d086af736a60e9eeb907d3b93b6e0e5",
    "execution": {
     "iopub.execute_input": "2024-07-08T18:41:37.224997Z",
     "iopub.status.busy": "2024-07-08T18:41:37.224663Z",
     "iopub.status.idle": "2024-07-08T18:41:37.462893Z",
     "shell.execute_reply": "2024-07-08T18:41:37.461938Z",
     "shell.execute_reply.started": "2024-07-08T18:41:37.22497Z"
    }
   },
   "outputs": [],
   "source": [
    "import os\n",
    "for dirname, _, filenames in os.walk('/dataset'):\n",
    "    for filename in filenames:\n",
    "        print(os.path.join(dirname, filename))"
   ]
  },
  {
   "cell_type": "markdown",
   "metadata": {},
   "source": [
    "# Importing Necessary Libraries"
   ]
  },
  {
   "cell_type": "code",
   "execution_count": null,
   "metadata": {
    "execution": {
     "iopub.execute_input": "2024-07-08T19:11:25.449018Z",
     "iopub.status.busy": "2024-07-08T19:11:25.448285Z",
     "iopub.status.idle": "2024-07-08T19:11:39.624503Z",
     "shell.execute_reply": "2024-07-08T19:11:39.623202Z",
     "shell.execute_reply.started": "2024-07-08T19:11:25.448989Z"
    }
   },
   "outputs": [],
   "source": [
    "!pip install skorch"
   ]
  },
  {
   "cell_type": "code",
   "execution_count": null,
   "metadata": {
    "execution": {
     "iopub.execute_input": "2024-07-08T19:11:44.71917Z",
     "iopub.status.busy": "2024-07-08T19:11:44.718471Z",
     "iopub.status.idle": "2024-07-08T19:11:45.401122Z",
     "shell.execute_reply": "2024-07-08T19:11:45.400243Z",
     "shell.execute_reply.started": "2024-07-08T19:11:44.719132Z"
    }
   },
   "outputs": [],
   "source": [
    "import torch\n",
    "import torch.nn as nn\n",
    "import torch.optim as optim\n",
    "from torchvision import transforms, datasets\n",
    "from torch.utils.data import DataLoader\n",
    "from torch.optim.lr_scheduler import ReduceLROnPlateau\n",
    "from sklearn.model_selection import RandomizedSearchCV\n",
    "from skorch import NeuralNetBinaryClassifier\n",
    "import numpy as np\n",
    "import matplotlib.pyplot as plt\n",
    "import seaborn as sns"
   ]
  },
  {
   "cell_type": "markdown",
   "metadata": {},
   "source": [
    "# Data preprocessing and augmentation"
   ]
  },
  {
   "cell_type": "code",
   "execution_count": null,
   "metadata": {
    "execution": {
     "iopub.execute_input": "2024-07-08T19:12:14.063379Z",
     "iopub.status.busy": "2024-07-08T19:12:14.062734Z",
     "iopub.status.idle": "2024-07-08T19:12:14.069049Z",
     "shell.execute_reply": "2024-07-08T19:12:14.068146Z",
     "shell.execute_reply.started": "2024-07-08T19:12:14.063348Z"
    }
   },
   "outputs": [],
   "source": [
    "transform = transforms.Compose([\n",
    "    transforms.Resize((64, 64)),\n",
    "    transforms.RandomHorizontalFlip(),\n",
    "    transforms.RandomRotation(10),\n",
    "    transforms.ColorJitter(brightness=0.2, contrast=0.2, saturation=0.2),\n",
    "    transforms.ToTensor(),\n",
    "    transforms.Normalize([0.485, 0.456, 0.406], [0.229, 0.224, 0.225])\n",
    "])"
   ]
  },
  {
   "cell_type": "markdown",
   "metadata": {},
   "source": [
    "# Load and Split the Dataset"
   ]
  },
  {
   "cell_type": "code",
   "execution_count": null,
   "metadata": {
    "execution": {
     "iopub.execute_input": "2024-07-08T19:12:19.065064Z",
     "iopub.status.busy": "2024-07-08T19:12:19.064125Z",
     "iopub.status.idle": "2024-07-08T19:12:19.08061Z",
     "shell.execute_reply": "2024-07-08T19:12:19.079824Z",
     "shell.execute_reply.started": "2024-07-08T19:12:19.065033Z"
    }
   },
   "outputs": [],
   "source": [
    "dataset = datasets.ImageFolder('/kaggle/input/pothole-detection-dataset', transform=transform)"
   ]
  },
  {
   "cell_type": "code",
   "execution_count": null,
   "metadata": {
    "execution": {
     "iopub.execute_input": "2024-07-08T19:12:28.679034Z",
     "iopub.status.busy": "2024-07-08T19:12:28.678685Z",
     "iopub.status.idle": "2024-07-08T19:12:28.683562Z",
     "shell.execute_reply": "2024-07-08T19:12:28.682475Z",
     "shell.execute_reply.started": "2024-07-08T19:12:28.679007Z"
    }
   },
   "outputs": [],
   "source": [
    "train_size = int(0.8 * len(dataset))"
   ]
  },
  {
   "cell_type": "code",
   "execution_count": null,
   "metadata": {
    "execution": {
     "iopub.execute_input": "2024-07-08T19:12:31.270548Z",
     "iopub.status.busy": "2024-07-08T19:12:31.269665Z",
     "iopub.status.idle": "2024-07-08T19:12:31.274433Z",
     "shell.execute_reply": "2024-07-08T19:12:31.273645Z",
     "shell.execute_reply.started": "2024-07-08T19:12:31.270513Z"
    }
   },
   "outputs": [],
   "source": [
    "val_size = len(dataset) - train_size"
   ]
  },
  {
   "cell_type": "code",
   "execution_count": null,
   "metadata": {
    "execution": {
     "iopub.execute_input": "2024-07-08T19:12:35.720578Z",
     "iopub.status.busy": "2024-07-08T19:12:35.72017Z",
     "iopub.status.idle": "2024-07-08T19:12:35.72541Z",
     "shell.execute_reply": "2024-07-08T19:12:35.724469Z",
     "shell.execute_reply.started": "2024-07-08T19:12:35.72055Z"
    }
   },
   "outputs": [],
   "source": [
    "train_dataset, val_dataset = torch.utils.data.random_split(dataset, [train_size, val_size])"
   ]
  },
  {
   "cell_type": "code",
   "execution_count": null,
   "metadata": {
    "execution": {
     "iopub.execute_input": "2024-07-08T18:41:43.056111Z",
     "iopub.status.busy": "2024-07-08T18:41:43.055743Z",
     "iopub.status.idle": "2024-07-08T18:41:43.061596Z",
     "shell.execute_reply": "2024-07-08T18:41:43.060524Z",
     "shell.execute_reply.started": "2024-07-08T18:41:43.056077Z"
    }
   },
   "outputs": [],
   "source": [
    "train_loader = DataLoader(train_dataset, batch_size=32, shuffle=True)\n",
    "val_loader = DataLoader(val_dataset, batch_size=32, shuffle=False)"
   ]
  },
  {
   "cell_type": "markdown",
   "metadata": {},
   "source": [
    "# Define the CNN Architecture"
   ]
  },
  {
   "cell_type": "code",
   "execution_count": null,
   "metadata": {
    "execution": {
     "iopub.execute_input": "2024-07-08T19:17:56.303726Z",
     "iopub.status.busy": "2024-07-08T19:17:56.303357Z",
     "iopub.status.idle": "2024-07-08T19:17:56.314808Z",
     "shell.execute_reply": "2024-07-08T19:17:56.313849Z",
     "shell.execute_reply.started": "2024-07-08T19:17:56.303692Z"
    }
   },
   "outputs": [],
   "source": [
    "class PotholeDetectionCNN(nn.Module):\n",
    "    def __init__(self, dropout_rate=0.5):\n",
    "        super(PotholeDetectionCNN, self).__init__()\n",
    "        self.features = nn.Sequential(\n",
    "            nn.Conv2d(3, 32, kernel_size=3, padding=1),\n",
    "            nn.BatchNorm2d(32),\n",
    "            nn.ReLU(inplace=True),\n",
    "            nn.MaxPool2d(kernel_size=2, stride=2),\n",
    "            \n",
    "            nn.Conv2d(32, 64, kernel_size=3, padding=1),\n",
    "            nn.BatchNorm2d(64),\n",
    "            nn.ReLU(inplace=True),\n",
    "            nn.MaxPool2d(kernel_size=2, stride=2),\n",
    "            \n",
    "            nn.Conv2d(64, 128, kernel_size=3, padding=1),\n",
    "            nn.BatchNorm2d(128),\n",
    "            nn.ReLU(inplace=True),\n",
    "            nn.MaxPool2d(kernel_size=2, stride=2),\n",
    "            \n",
    "            nn.Conv2d(128, 256, kernel_size=3, padding=1),\n",
    "            nn.BatchNorm2d(256),\n",
    "            nn.ReLU(inplace=True),\n",
    "            nn.MaxPool2d(kernel_size=2, stride=2),\n",
    "        )\n",
    "        self.classifier = nn.Sequential(\n",
    "            nn.Dropout(dropout_rate),\n",
    "            nn.Linear(256 * 4 * 4, 512),\n",
    "            nn.ReLU(inplace=True),\n",
    "            nn.Dropout(dropout_rate),\n",
    "            nn.Linear(512, 256),\n",
    "            nn.ReLU(inplace=True),\n",
    "            nn.Linear(256, 1),\n",
    "            nn.Sigmoid()\n",
    "        )\n",
    "\n",
    "    def forward(self, x):\n",
    "        x = self.features(x)\n",
    "        x = torch.flatten(x, 1)\n",
    "        x = self.classifier(x)\n",
    "        return x"
   ]
  },
  {
   "cell_type": "code",
   "execution_count": null,
   "metadata": {
    "execution": {
     "iopub.execute_input": "2024-07-08T19:18:02.587572Z",
     "iopub.status.busy": "2024-07-08T19:18:02.58675Z",
     "iopub.status.idle": "2024-07-08T19:18:02.592058Z",
     "shell.execute_reply": "2024-07-08T19:18:02.591Z",
     "shell.execute_reply.started": "2024-07-08T19:18:02.58754Z"
    }
   },
   "outputs": [],
   "source": [
    "device = torch.device(\"cuda\" if torch.cuda.is_available() else \"cpu\")"
   ]
  },
  {
   "cell_type": "markdown",
   "metadata": {},
   "source": [
    "## Lets Initialize the Model, Loss Function and the optimizer"
   ]
  },
  {
   "cell_type": "code",
   "execution_count": null,
   "metadata": {
    "execution": {
     "iopub.execute_input": "2024-07-08T19:18:08.97903Z",
     "iopub.status.busy": "2024-07-08T19:18:08.978146Z",
     "iopub.status.idle": "2024-07-08T19:18:09.018572Z",
     "shell.execute_reply": "2024-07-08T19:18:09.017723Z",
     "shell.execute_reply.started": "2024-07-08T19:18:08.978996Z"
    }
   },
   "outputs": [],
   "source": [
    "model = PotholeDetectionCNN().to(device)\n",
    "criterion = nn.BCELoss()\n",
    "optimizer = optim.Adam(model.parameters(), lr=0.001)"
   ]
  },
  {
   "cell_type": "markdown",
   "metadata": {},
   "source": [
    "# Training and Validation Loop"
   ]
  },
  {
   "cell_type": "code",
   "execution_count": null,
   "metadata": {
    "execution": {
     "iopub.execute_input": "2024-07-08T19:19:11.786302Z",
     "iopub.status.busy": "2024-07-08T19:19:11.78543Z",
     "iopub.status.idle": "2024-07-08T19:30:30.162288Z",
     "shell.execute_reply": "2024-07-08T19:30:30.161221Z",
     "shell.execute_reply.started": "2024-07-08T19:19:11.786265Z"
    }
   },
   "outputs": [],
   "source": [
    "num_epochs = 50\n",
    "train_losses, train_accs, val_losses, val_accs = [], [], [], []\n",
    "\n",
    "for epoch in range(num_epochs):\n",
    "    model.train()\n",
    "    train_loss = 0.0\n",
    "    train_correct = 0\n",
    "    \n",
    "    for inputs, labels in train_loader:\n",
    "        inputs, labels = inputs.to(device), labels.float().to(device)\n",
    "        \n",
    "        optimizer.zero_grad()\n",
    "        outputs = model(inputs)\n",
    "        loss = criterion(outputs.squeeze(), labels)\n",
    "        loss.backward()\n",
    "        optimizer.step()\n",
    "        \n",
    "        train_loss += loss.item() * inputs.size(0)\n",
    "        predicted = (outputs.squeeze() > 0.5).float()\n",
    "        train_correct += (predicted == labels).sum().item()\n",
    "    \n",
    "    train_loss /= len(train_loader.dataset)\n",
    "    train_acc = train_correct / len(train_loader.dataset)\n",
    "    \n",
    "    # Validation\n",
    "    model.eval()\n",
    "    val_loss = 0.0\n",
    "    val_correct = 0\n",
    "    \n",
    "    with torch.no_grad():\n",
    "        for inputs, labels in val_loader:\n",
    "            inputs, labels = inputs.to(device), labels.float().to(device)\n",
    "            outputs = model(inputs)\n",
    "            loss = criterion(outputs.squeeze(), labels)\n",
    "            \n",
    "            val_loss += loss.item() * inputs.size(0)\n",
    "            predicted = (outputs.squeeze() > 0.5).float()\n",
    "            val_correct += (predicted == labels).sum().item()\n",
    "    \n",
    "    val_loss /= len(val_loader.dataset)\n",
    "    val_acc = val_correct / len(val_loader.dataset)\n",
    "    \n",
    "    train_losses.append(train_loss)\n",
    "    train_accs.append(train_acc)\n",
    "    val_losses.append(val_loss)\n",
    "    val_accs.append(val_acc)\n",
    "    \n",
    "    print(f\"Epoch [{epoch+1}/{num_epochs}], \"\n",
    "          f\"Train Loss: {train_loss:.4f}, Train Acc: {train_acc:.4f}, \"\n",
    "          f\"Val Loss: {val_loss:.4f}, Val Acc: {val_acc:.4f}\")"
   ]
  },
  {
   "cell_type": "code",
   "execution_count": null,
   "metadata": {
    "execution": {
     "iopub.execute_input": "2024-07-08T19:30:59.611808Z",
     "iopub.status.busy": "2024-07-08T19:30:59.611135Z",
     "iopub.status.idle": "2024-07-08T19:30:59.619506Z",
     "shell.execute_reply": "2024-07-08T19:30:59.618577Z",
     "shell.execute_reply.started": "2024-07-08T19:30:59.611777Z"
    }
   },
   "outputs": [],
   "source": [
    "import matplotlib.pyplot as plt\n",
    "from PIL import Image\n",
    "import numpy as np\n",
    "\n",
    "def plot_training_results(train_losses, train_accs, val_losses, val_accs):\n",
    "    plt.figure(figsize=(12, 4))\n",
    "    \n",
    "    plt.subplot(1, 2, 1)\n",
    "    plt.plot(train_losses, label='Train Loss')\n",
    "    plt.plot(val_losses, label='Validation Loss')\n",
    "    plt.xlabel('Epoch')\n",
    "    plt.ylabel('Loss')\n",
    "    plt.legend()\n",
    "    plt.title('Training and Validation Loss')\n",
    "    \n",
    "    plt.subplot(1, 2, 2)\n",
    "    plt.plot(train_accs, label='Train Accuracy')\n",
    "    plt.plot(val_accs, label='Validation Accuracy')\n",
    "    plt.xlabel('Epoch')\n",
    "    plt.ylabel('Accuracy')\n",
    "    plt.legend()\n",
    "    plt.title('Training and Validation Accuracy')\n",
    "    \n",
    "    plt.tight_layout()\n",
    "    plt.show()"
   ]
  },
  {
   "cell_type": "code",
   "execution_count": null,
   "metadata": {
    "execution": {
     "iopub.execute_input": "2024-07-08T19:31:04.956864Z",
     "iopub.status.busy": "2024-07-08T19:31:04.955968Z",
     "iopub.status.idle": "2024-07-08T19:31:05.584171Z",
     "shell.execute_reply": "2024-07-08T19:31:05.583233Z",
     "shell.execute_reply.started": "2024-07-08T19:31:04.956828Z"
    }
   },
   "outputs": [],
   "source": [
    "# Plot training results\n",
    "plot_training_results(train_losses, train_accs, val_losses, val_accs)"
   ]
  },
  {
   "cell_type": "code",
   "execution_count": null,
   "metadata": {
    "execution": {
     "iopub.execute_input": "2024-07-08T19:31:16.244505Z",
     "iopub.status.busy": "2024-07-08T19:31:16.243627Z",
     "iopub.status.idle": "2024-07-08T19:31:16.281642Z",
     "shell.execute_reply": "2024-07-08T19:31:16.280728Z",
     "shell.execute_reply.started": "2024-07-08T19:31:16.244473Z"
    }
   },
   "outputs": [],
   "source": [
    "torch.save(model.state_dict(), 'pothole_detection_model.pth')"
   ]
  }
 ],
 "metadata": {
  "kaggle": {
   "accelerator": "gpu",
   "dataSources": [
    {
     "datasetId": 430832,
     "sourceId": 866953,
     "sourceType": "datasetVersion"
    }
   ],
   "dockerImageVersionId": 30733,
   "isGpuEnabled": true,
   "isInternetEnabled": true,
   "language": "python",
   "sourceType": "notebook"
  },
  "kernelspec": {
   "display_name": "Python 3 (ipykernel)",
   "language": "python",
   "name": "python3"
  },
  "language_info": {
   "codemirror_mode": {
    "name": "ipython",
    "version": 3
   },
   "file_extension": ".py",
   "mimetype": "text/x-python",
   "name": "python",
   "nbconvert_exporter": "python",
   "pygments_lexer": "ipython3",
   "version": "3.12.3"
  }
 },
 "nbformat": 4,
 "nbformat_minor": 4
}
